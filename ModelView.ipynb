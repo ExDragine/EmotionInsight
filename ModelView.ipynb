{
 "cells": [
  {
   "cell_type": "code",
   "execution_count": null,
   "metadata": {},
   "outputs": [],
   "source": [
    "import torch\n",
    "import torchvision\n",
    "from torch.autograd import Variable\n",
    "from tensorboardX import SummaryWriter\n",
    "\n",
    "\n",
    "device = torch.device(\"cuda\" if torch.cuda.is_available() else \"cpu\")\n",
    "# 模拟输入数据\n",
    "input_data = Variable(torch.rand(16, 3, 224, 224))\n",
    "input_data=input_data.cuda()\n",
    "\n",
    "# 从torchvision中导入已有模型\n",
    "#net = torchvision.models.resnet18()\n",
    "\n",
    "net = torch.load(\n",
    "    r'C:\\Users\\ExDragine\\Documents\\Cookie-Can\\Python\\EmotionInsight\\CONVNEXT62_0.696.pth'\n",
    ")\n",
    "net = net.cuda()\n",
    "net.eval()\n",
    "\n",
    "\n",
    "# 声明writer对象，保存的文件夹\n",
    "writer = SummaryWriter(log_dir='./log', comment='ConvNeXt')\n",
    "with writer:\n",
    "    writer.add_graph(net, (input_data, ))\n"
   ]
  }
 ],
 "metadata": {
  "interpreter": {
   "hash": "1882425c3b4fabc3d9812b2bb88e573da3722c6cd108cda16b062a3868ec4930"
  },
  "kernelspec": {
   "display_name": "Python 3.9.7 ('ML')",
   "language": "python",
   "name": "python3"
  },
  "language_info": {
   "codemirror_mode": {
    "name": "ipython",
    "version": 3
   },
   "file_extension": ".py",
   "mimetype": "text/x-python",
   "name": "python",
   "nbconvert_exporter": "python",
   "pygments_lexer": "ipython3",
   "version": "3.9.7"
  },
  "orig_nbformat": 4
 },
 "nbformat": 4,
 "nbformat_minor": 2
}
