{
 "cells": [
  {
   "cell_type": "code",
   "execution_count": null,
   "metadata": {},
   "outputs": [],
   "source": [
    "import csv\n",
    "import os\n",
    " \n",
    "database_path = r'F:\\Datasets\\fer2013'\n",
    "datasets_path = r'.\\datasets'\n",
    "csv_file = os.path.join(database_path, 'fer2013.csv')\n",
    "train_csv = os.path.join(datasets_path, 'train.csv')\n",
    "val_csv = os.path.join(datasets_path, 'val.csv')\n",
    "test_csv = os.path.join(datasets_path, 'test.csv')\n",
    " \n",
    " \n",
    "with open(csv_file) as f:\n",
    "    csvr = csv.reader(f)\n",
    "    header = next(csvr)\n",
    "    rows = [row for row in csvr]\n",
    " \n",
    "    trn = [row[:-1] for row in rows if row[-1] == 'Training']\n",
    "    csv.writer(open(train_csv, 'w+'), lineterminator='\\n').writerows([header[:-1]] + trn)\n",
    "    print(len(trn))\n",
    " \n",
    "    val = [row[:-1] for row in rows if row[-1] == 'PublicTest']\n",
    "    csv.writer(open(val_csv, 'w+'), lineterminator='\\n').writerows([header[:-1]] + val)\n",
    "    print(len(val))\n",
    " \n",
    "    tst = [row[:-1] for row in rows if row[-1] == 'PrivateTest']\n",
    "    csv.writer(open(test_csv, 'w+'), lineterminator='\\n').writerows([header[:-1]] + tst)\n",
    "    print(len(tst))"
   ]
  },
  {
   "cell_type": "code",
   "execution_count": null,
   "metadata": {},
   "outputs": [],
   "source": [
    "import csv\n",
    "import os\n",
    "from PIL import Image\n",
    "import numpy as np\n",
    "\n",
    "datasets_path = r'.\\datasets'\n",
    "train_csv = os.path.join(datasets_path, 'train.csv')\n",
    "val_csv = os.path.join(datasets_path, 'val.csv')\n",
    "test_csv = os.path.join(datasets_path, 'test.csv')\n",
    "\n",
    "train_set = os.path.join(datasets_path, 'train')\n",
    "val_set = os.path.join(datasets_path, 'val')\n",
    "test_set = os.path.join(datasets_path, 'test')\n",
    "\n",
    "for save_path, csv_file in [(train_set, train_csv), (val_set, val_csv),\n",
    "                            (test_set, test_csv)]:\n",
    "    if not os.path.exists(save_path):\n",
    "        os.makedirs(save_path)\n",
    "\n",
    "    num = 1\n",
    "    with open(csv_file) as f:\n",
    "        csvr = csv.reader(f)\n",
    "        header = next(csvr)\n",
    "        for i, (label, pixel) in enumerate(csvr):\n",
    "            pixel = np.asarray([float(p)\n",
    "                                for p in pixel.split()]).reshape(48, 48)\n",
    "            subfolder = os.path.join(save_path, label)\n",
    "            if not os.path.exists(subfolder):\n",
    "                os.makedirs(subfolder)\n",
    "            im = Image.fromarray(pixel).convert('L')\n",
    "            image_name = os.path.join(subfolder, '{:05d}.jpg'.format(i))\n",
    "            print(image_name)\n",
    "            im.save(image_name)"
   ]
  }
 ],
 "metadata": {
  "interpreter": {
   "hash": "1882425c3b4fabc3d9812b2bb88e573da3722c6cd108cda16b062a3868ec4930"
  },
  "kernelspec": {
   "display_name": "Python 3.9.7 ('ML')",
   "language": "python",
   "name": "python3"
  },
  "language_info": {
   "name": "python",
   "version": "3.9.7"
  },
  "orig_nbformat": 4
 },
 "nbformat": 4,
 "nbformat_minor": 2
}
